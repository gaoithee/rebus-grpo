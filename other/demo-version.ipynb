{
 "cells": [
  {
   "cell_type": "code",
   "execution_count": 1,
   "id": "3d3cb0b7-76bc-4bbc-bbb8-38363348e4cd",
   "metadata": {},
   "outputs": [
    {
     "name": "stdout",
     "output_type": "stream",
     "text": [
      "🦥 Unsloth: Will patch your computer to enable 2x faster free finetuning.\n"
     ]
    },
    {
     "name": "stderr",
     "output_type": "stream",
     "text": [
      "2025-05-06 12:40:48.565787: I tensorflow/core/util/port.cc:113] oneDNN custom operations are on. You may see slightly different numerical results due to floating-point round-off errors from different computation orders. To turn them off, set the environment variable `TF_ENABLE_ONEDNN_OPTS=0`.\n",
      "2025-05-06 12:40:49.400010: E external/local_xla/xla/stream_executor/cuda/cuda_dnn.cc:9261] Unable to register cuDNN factory: Attempting to register factory for plugin cuDNN when one has already been registered\n",
      "2025-05-06 12:40:49.400053: E external/local_xla/xla/stream_executor/cuda/cuda_fft.cc:607] Unable to register cuFFT factory: Attempting to register factory for plugin cuFFT when one has already been registered\n",
      "2025-05-06 12:40:49.405857: E external/local_xla/xla/stream_executor/cuda/cuda_blas.cc:1515] Unable to register cuBLAS factory: Attempting to register factory for plugin cuBLAS when one has already been registered\n",
      "2025-05-06 12:40:49.470566: I tensorflow/core/platform/cpu_feature_guard.cc:182] This TensorFlow binary is optimized to use available CPU instructions in performance-critical operations.\n",
      "To enable the following instructions: AVX2 AVX512F AVX512_VNNI FMA, in other operations, rebuild TensorFlow with the appropriate compiler flags.\n",
      "2025-05-06 12:40:51.847522: W tensorflow/compiler/tf2tensorrt/utils/py_utils.cc:38] TF-TRT Warning: Could not find TensorRT\n"
     ]
    },
    {
     "name": "stdout",
     "output_type": "stream",
     "text": [
      "Unsloth: Failed to patch SmolVLMForConditionalGeneration forward function.\n",
      "🦥 Unsloth Zoo will now patch everything to make training faster!\n"
     ]
    }
   ],
   "source": [
    "import unsloth\n",
    "# from unsloth import FastLanguageModel"
   ]
  },
  {
   "cell_type": "code",
   "execution_count": 2,
   "id": "52cfaa3c-b98e-414c-9d65-3337ad6797db",
   "metadata": {},
   "outputs": [],
   "source": [
    "from unsloth import FastLanguageModel"
   ]
  },
  {
   "cell_type": "code",
   "execution_count": 69,
   "id": "ab8a7087-5551-4693-a681-0a7f03736896",
   "metadata": {},
   "outputs": [
    {
     "name": "stdout",
     "output_type": "stream",
     "text": [
      "==((====))==  Unsloth 2025.3.19: Fast Gemma2 patching. Transformers: 4.51.3.\n",
      "   \\\\   /|    Tesla V100-PCIE-32GB. Num GPUs = 1. Max memory: 31.739 GB. Platform: Linux.\n",
      "O^O/ \\_/ \\    Torch: 2.5.1+cu124. CUDA: 7.0. CUDA Toolkit: 12.4. Triton: 3.1.0\n",
      "\\        /    Bfloat16 = FALSE. FA [Xformers = 0.0.29.post1. FA2 = False]\n",
      " \"-____-\"     Free license: http://github.com/unslothai/unsloth\n",
      "Unsloth: Fast downloading is enabled - ignore downloading bars which are red colored!\n"
     ]
    },
    {
     "data": {
      "application/vnd.jupyter.widget-view+json": {
       "model_id": "4ae240526d3e41b78fd1f7c82ae861cc",
       "version_major": 2,
       "version_minor": 0
      },
      "text/plain": [
       "Loading checkpoint shards:   0%|          | 0/2 [00:00<?, ?it/s]"
      ]
     },
     "metadata": {},
     "output_type": "display_data"
    }
   ],
   "source": [
    "model, tokenizer = FastLanguageModel.from_pretrained(\n",
    "    model_name = \"gsarti/gemma-2-2b-rebus-solver-fp16\",\n",
    "    max_seq_length = 1248,\n",
    "    load_in_4bit = True,\n",
    ")\n",
    "\n",
    "# Inference\n",
    "verbalized_rebus = \"[Materiale espulso dai vulcani] R O [Strumento del calzolaio] [Si trovano ai lati del bacino] C I [Si ingrassano con la polenta] E I N [Contiene scorte di cibi] B [Isola in francese]\"\n",
    "solution_key = \"1 ' 5 6 5 3 3 1 14\"\n",
    "template = \"\"\"<bos><start_of_turn>user\n",
    "Risolvi gli indizi tra parentesi per ottenere una prima lettura, e usa la chiave di lettura per ottenere la soluzione del rebus.\n",
    "\n",
    "Rebus: {rebus}\n",
    "Chiave risolutiva: {key}<end_of_turn>\n",
    "<start_of_turn>model\"\"\""
   ]
  },
  {
   "cell_type": "code",
   "execution_count": 4,
   "id": "a8a0b1af-37dd-4899-b63f-2961a18c8b89",
   "metadata": {},
   "outputs": [],
   "source": [
    "import warnings\n",
    "from contextlib import suppress\n",
    "\n",
    "# Sopprime i warning solo in questo contesto\n",
    "with suppress(Warning):\n",
    "    # Il codice che potrebbe generare warning\n",
    "    import unsloth"
   ]
  },
  {
   "cell_type": "code",
   "execution_count": 3,
   "id": "24107089-c978-4ce7-8894-a2fbc509968e",
   "metadata": {},
   "outputs": [],
   "source": [
    "from datasets import load_dataset"
   ]
  },
  {
   "cell_type": "markdown",
   "id": "22f451b3-c706-4906-baba-44b1dfe26368",
   "metadata": {
    "jp-MarkdownHeadingCollapsed": true
   },
   "source": [
    "# MISCELLANEA"
   ]
  },
  {
   "cell_type": "code",
   "execution_count": 5,
   "id": "d597e999-fd41-4401-99bf-14be9b830722",
   "metadata": {},
   "outputs": [
    {
     "name": "stderr",
     "output_type": "stream",
     "text": [
      "The attention mask is not set and cannot be inferred from input because pad token is same as eos token. As a consequence, you may observe unexpected behavior. Please pass your input's `attention_mask` to obtain reliable results.\n",
      "huggingface/tokenizers: The current process just got forked, after parallelism has already been used. Disabling parallelism to avoid deadlocks...\n",
      "To disable this warning, you can either:\n",
      "\t- Avoid using `tokenizers` before the fork if possible\n",
      "\t- Explicitly set the environment variable TOKENIZERS_PARALLELISM=(true | false)\n",
      "huggingface/tokenizers: The current process just got forked, after parallelism has already been used. Disabling parallelism to avoid deadlocks...\n",
      "To disable this warning, you can either:\n",
      "\t- Avoid using `tokenizers` before the fork if possible\n",
      "\t- Explicitly set the environment variable TOKENIZERS_PARALLELISM=(true | false)\n"
     ]
    },
    {
     "name": "stdout",
     "output_type": "stream",
     "text": [
      "<bos><bos><start_of_turn>user\n",
      "Risolvi gli indizi tra parentesi per ottenere una prima lettura, e usa la chiave di lettura per ottenere la soluzione del rebus.\n",
      "\n",
      "Rebus: [Materiale espulso dai vulcani] R O [Strumento del calzolaio] [Si trovano ai lati del bacino] C I [Si ingrassano con la polenta] E I N [Contiene scorte di cibi] B [Isola in francese]\n",
      "Chiave risolutiva: 1 ' 5 6 5 3 3 1 14<end_of_turn>\n",
      "<start_of_turn>model\n",
      "Procediamo alla risoluzione del rebus passo per passo:\n",
      "- [Materiale espulso dai vulcani] = lava\n",
      "- R O = R O\n",
      "- [Strumento del calzolaio] = lesina\n",
      "- [Si trovano ai lati del bacino] = anche\n",
      "- C I = C I\n",
      "- [Si ingrassano con la polenta] = oche\n",
      "- E I N = E I N\n",
      "- [Contiene scorte di cibi] = magazzino\n",
      "- B = B\n",
      "- [Isola in francese] = ile\n",
      "\n",
      "Prima lettura: lava R O lesina anche C I oche E I N magazzino B ile\n",
      "\n",
      "Ora componiamo la soluzione seguendo la chiave risolutiva:\n",
      "1 = L\n",
      "5 = avaro\n",
      "6 = lesina\n",
      "5 = anche\n",
      "3 = ciò\n",
      "3 = che\n",
      "1 = è\n",
      "14 = ingrassato\n",
      "\n",
      "Soluzione: L avaro lesina anche ciò che è ingrassato\n",
      "<|eot_id|>\n",
      "<|eot_id|>\n",
      "<|eot_id|>\n",
      "<|eot_id|>\n",
      "<|eot_id|>\n",
      "<|eot_id|>\n",
      "<|eot_id|>\n",
      "<|eot_id|>\n",
      "<|eot_id|>\n",
      "<|eot_id|>\n",
      "<|eot_id|>\n",
      "<|eot_id|>\n",
      "<|eot_id|>\n",
      "<|eot_id|>\n",
      "<|eot_id|>\n",
      "<|eot_id|>\n",
      "<|eot_id|>\n",
      "<|eot_id|>\n",
      "<|eot_id|>\n",
      "<|eot_id|>\n",
      "<|eot_id|>\n",
      "<|eot_id|>\n",
      "<|eot_id|>\n",
      "<|eot_id|>\n",
      "<|eot_id|>\n",
      "<|eot_id|>\n",
      "<|eot_id|>\n",
      "<|eot_id|>\n",
      "<|eot_id|>\n",
      "<|eot_id|>\n",
      "<|eot_id|>\n",
      "<|eot_id|>\n",
      "<|eot_id|>\n",
      "<|eot_id|>\n",
      "<|eot_id|>\n",
      "<|eot_id|>\n",
      "<|eot_id\n"
     ]
    }
   ],
   "source": [
    "input = template.format(rebus=verbalized_rebus, key=solution_key)\n",
    "inputs = tokenizer(input, return_tensors=\"pt\")[\"input_ids\"]\n",
    "inputs = inputs.to('cuda')\n",
    "outputs = model.generate(input_ids = inputs, max_new_tokens = 500, use_cache = True)\n",
    "model_generations = tokenizer.batch_decode(outputs)\n",
    "print(model_generations[0])"
   ]
  },
  {
   "cell_type": "code",
   "execution_count": 6,
   "id": "e6b31102-b1bb-48ec-892d-3a04af2c3bb9",
   "metadata": {},
   "outputs": [
    {
     "data": {
      "text/plain": [
       "\"<bos><bos><start_of_turn>user\\nRisolvi gli indizi tra parentesi per ottenere una prima lettura, e usa la chiave di lettura per ottenere la soluzione del rebus.\\n\\nRebus: [Materiale espulso dai vulcani] R O [Strumento del calzolaio] [Si trovano ai lati del bacino] C I [Si ingrassano con la polenta] E I N [Contiene scorte di cibi] B [Isola in francese]\\nChiave risolutiva: 1 ' 5 6 5 3 3 1 14<end_of_turn>\\n<start_of_turn>model\\nProcediamo alla risoluzione del rebus passo per passo:\\n- [Materiale espulso dai vulcani] = lava\\n- R O = R O\\n- [Strumento del calzolaio] = lesina\\n- [Si trovano ai lati del bacino] = anche\\n- C I = C I\\n- [Si ingrassano con la polenta] = oche\\n- E I N = E I N\\n- [Contiene scorte di cibi] = magazzino\\n- B = B\\n- [Isola in francese] = ile\\n\\nPrima lettura: lava R O lesina anche C I oche E I N magazzino B ile\\n\\nOra componiamo la soluzione seguendo la chiave risolutiva:\\n1 = L\\n5 = avaro\\n6 = lesina\\n5 = anche\\n3 = ciò\\n3 = che\\n1 = è\\n14 = ingrassato\\n\\nSoluzione: L avaro lesina anche ciò che è ingrassato\\n<|eot_id|>\\n<|eot_id|>\\n<|eot_id|>\\n<|eot_id|>\\n<|eot_id|>\\n<|eot_id|>\\n<|eot_id|>\\n<|eot_id|>\\n<|eot_id|>\\n<|eot_id|>\\n<|eot_id|>\\n<|eot_id|>\\n<|eot_id|>\\n<|eot_id|>\\n<|eot_id|>\\n<|eot_id|>\\n<|eot_id|>\\n<|eot_id|>\\n<|eot_id|>\\n<|eot_id|>\\n<|eot_id|>\\n<|eot_id|>\\n<|eot_id|>\\n<|eot_id|>\\n<|eot_id|>\\n<|eot_id|>\\n<|eot_id|>\\n<|eot_id|>\\n<|eot_id|>\\n<|eot_id|>\\n<|eot_id|>\\n<|eot_id|>\\n<|eot_id|>\\n<|eot_id|>\\n<|eot_id|>\\n<|eot_id|>\\n<|eot_id\""
      ]
     },
     "execution_count": 6,
     "metadata": {},
     "output_type": "execute_result"
    }
   ],
   "source": [
    "rebus_string = model_generations[0]\n",
    "rebus_string"
   ]
  },
  {
   "cell_type": "code",
   "execution_count": 10,
   "id": "cb27c9b4-5d0f-448f-b22d-70c024e75a6d",
   "metadata": {},
   "outputs": [
    {
     "name": "stdout",
     "output_type": "stream",
     "text": [
      "L avaro lesina anche ciò che è ingrassato\n"
     ]
    }
   ],
   "source": [
    "soluzione = estrai_soluzione(rebus_string)\n",
    "print(soluzione)"
   ]
  },
  {
   "cell_type": "code",
   "execution_count": 13,
   "id": "70041b7f-af9b-4e49-b855-e47251f11e26",
   "metadata": {},
   "outputs": [],
   "source": [
    "def estrai_indizi(input_string):\n",
    "    # Usa una regex per trovare tutte le coppie [testo] = risposta\n",
    "    pattern = r\"\\[([^\\]]+)\\] = ([^\\n]+)\"\n",
    "    indizi = re.findall(pattern, input_string)\n",
    "    return indizi"
   ]
  },
  {
   "cell_type": "code",
   "execution_count": 15,
   "id": "7cc4bd70-2183-4f15-9984-c14c05fcb18e",
   "metadata": {},
   "outputs": [
    {
     "name": "stdout",
     "output_type": "stream",
     "text": [
      "[('Materiale espulso dai vulcani', 'lava'), ('Strumento del calzolaio', 'lesina'), ('Si trovano ai lati del bacino', 'anche'), ('Si ingrassano con la polenta', 'oche'), ('Contiene scorte di cibi', 'magazzino'), ('Isola in francese', 'ile')]\n"
     ]
    }
   ],
   "source": [
    "indizi = estrai_indizi(rebus_string)\n",
    "print(indizi)"
   ]
  },
  {
   "cell_type": "code",
   "execution_count": 68,
   "id": "5a072aca-fbf7-43ec-a51c-79645b718ba4",
   "metadata": {},
   "outputs": [
    {
     "name": "stdout",
     "output_type": "stream",
     "text": [
      "lava R O lesina anche C I oche E I N magazzino B ile\n"
     ]
    }
   ],
   "source": [
    "primalet = estrai_primalet(rebus_string)\n",
    "print(primalet)"
   ]
  },
  {
   "cell_type": "markdown",
   "id": "08d2681a-84a7-4663-ba89-2a5866e982af",
   "metadata": {},
   "source": [
    "# AUX FUNCTIONS"
   ]
  },
  {
   "cell_type": "code",
   "execution_count": 6,
   "id": "0b1e3655-9739-4093-bc55-174d82c72eca",
   "metadata": {},
   "outputs": [],
   "source": [
    "import re\n",
    "\n",
    "def estrai_soluzione(input_string):\n",
    "    # Trova la parte che contiene la soluzione\n",
    "    match = re.search(r\"Soluzione: (.+?)\\n\", input_string, re.DOTALL)\n",
    "    if match:\n",
    "        return match.group(1).strip()\n",
    "    else:\n",
    "        return None\n",
    "\n",
    "def estrai_indizi(input_string):\n",
    "    # input_string = re.sub(r'[ ]{2,}', ' ', input_string.strip())\n",
    "    pattern = r\"\\[([^\\]]+)\\] = ([^\\n]+)\"\n",
    "    indizi = re.findall(pattern, input_string)\n",
    "    \n",
    "    # Estrai solo le risposte dalla coppia [testo] = risposta\n",
    "    risposte = [risposta for _, risposta in indizi]\n",
    "    \n",
    "    # Ora, estrae anche gli indizi non racchiusi tra parentesi quadre (ad esempio 'AU', 'ME B')\n",
    "    # Per questo, possiamo cercare i token singoli (come 'AU' o 'ME B')\n",
    "    pattern_sigle = r\"[-–•]?\\s*([A-Z]+(?:\\s+[A-Z]+)*)\\s*=\\s*[^\\n]+\"    \n",
    "    risposte_sigle = re.findall(pattern_sigle, input_string)\n",
    "    \n",
    "    # Combina le risposte estratte dalle parentesi e quelle singole\n",
    "    return {'letters': risposte_sigle, 'words': risposte}\n",
    "\n",
    "def estrai_primalet(input_string):\n",
    "    # Trova la parte che contiene la soluzione\n",
    "    match = re.search(r\"Prima lettura: (.+?)\\n\", input_string, re.DOTALL)\n",
    "    if match:\n",
    "        return match.group(1).strip()\n",
    "    else:\n",
    "        return None"
   ]
  },
  {
   "cell_type": "markdown",
   "id": "f6bce312-7d39-49fc-bf46-e4915315305c",
   "metadata": {},
   "source": [
    "# DA QUI"
   ]
  },
  {
   "cell_type": "code",
   "execution_count": 7,
   "id": "0feef778-ffc1-4632-b2c2-91e8d7de48a5",
   "metadata": {},
   "outputs": [],
   "source": [
    "dataset_ood = load_dataset('gsarti/eureka-rebus', 'llm_sft', data_files=[\"ood_test.jsonl\"], split=\"train\")"
   ]
  },
  {
   "cell_type": "code",
   "execution_count": 8,
   "id": "3285ca15-3049-4558-925a-9ecf06fba074",
   "metadata": {},
   "outputs": [],
   "source": [
    "dataset_id = load_dataset('gsarti/eureka-rebus', 'llm_sft', data_files=[\"id_test.jsonl\"], split=\"train\")"
   ]
  },
  {
   "cell_type": "code",
   "execution_count": 9,
   "id": "9b0acbf2-03c4-4af1-a31f-6eaa76be1d2e",
   "metadata": {},
   "outputs": [
    {
     "data": {
      "text/plain": [
       "{'letters': ['A U', 'M E B'], 'words': ['strali', 'anatre', 'onda']}"
      ]
     },
     "execution_count": 9,
     "metadata": {},
     "output_type": "execute_result"
    }
   ],
   "source": [
    "estrai_indizi(dataset_ood[10]['conversations'][1]['value'])"
   ]
  },
  {
   "cell_type": "code",
   "execution_count": 10,
   "id": "f46536ef-0a0e-4869-9dc2-fe5dbf989229",
   "metadata": {},
   "outputs": [
    {
     "data": {
      "text/plain": [
       "'Procediamo alla risoluzione del rebus passo per passo:\\n- A U = A U\\n- [Le frecce lanciate da Diana] = strali\\n- [Sono dei palmipedi] = anatre\\n- M E B = M E B\\n- [Una curva tra i capelli] = onda\\n\\nPrima lettura: AU strali anatre ME B onda\\n\\nOra componiamo la soluzione seguendo la chiave risolutiva:\\n11 = Australiana\\n10 = tremebonda\\n\\nSoluzione: Australiana tremebonda\\n'"
      ]
     },
     "execution_count": 10,
     "metadata": {},
     "output_type": "execute_result"
    }
   ],
   "source": [
    "dataset_ood[10]['conversations'][1]['value']"
   ]
  },
  {
   "cell_type": "code",
   "execution_count": 5,
   "id": "ad59d022-bee2-47dc-80a9-b076f5ac0206",
   "metadata": {},
   "outputs": [],
   "source": [
    "def estrai_rebus_e_chiave(testo):\n",
    "    # Estrai la parte \"Rebus\" e \"Chiave di lettura\"\n",
    "    rebus_match = re.search(r\"Rebus:\\s*(.+?)\\s*Chiave di lettura:\", testo, re.DOTALL)\n",
    "    chiave_match = re.search(r\"Chiave di lettura:\\s*(.+)\", testo)\n",
    "\n",
    "    rebus_raw = rebus_match.group(1).strip() if rebus_match else \"\"\n",
    "    chiave = chiave_match.group(1).strip() if chiave_match else \"\"\n",
    "\n",
    "    return rebus_raw, chiave"
   ]
  },
  {
   "cell_type": "code",
   "execution_count": 12,
   "id": "3a6fc448-5002-44e8-99be-34735376ddb5",
   "metadata": {},
   "outputs": [],
   "source": [
    "rebus_raw, chiave = estrai_rebus_e_chiave(dataset_ood[10]['conversations'][0]['value'])"
   ]
  },
  {
   "cell_type": "code",
   "execution_count": 13,
   "id": "df91e8ca-28b6-468c-9e82-96c3a5650756",
   "metadata": {},
   "outputs": [
    {
     "data": {
      "text/plain": [
       "'AU [Le frecce lanciate da Diana] [Sono dei palmipedi] ME B [Una curva tra i capelli]'"
      ]
     },
     "execution_count": 13,
     "metadata": {},
     "output_type": "execute_result"
    }
   ],
   "source": [
    "rebus_raw"
   ]
  },
  {
   "cell_type": "code",
   "execution_count": 14,
   "id": "d5451c56-530f-47dd-bbb4-f65c59058714",
   "metadata": {},
   "outputs": [
    {
     "data": {
      "text/plain": [
       "'11 10'"
      ]
     },
     "execution_count": 14,
     "metadata": {},
     "output_type": "execute_result"
    }
   ],
   "source": [
    "chiave"
   ]
  },
  {
   "cell_type": "code",
   "execution_count": 15,
   "id": "5e2070d1-e965-465e-9014-ba0112161775",
   "metadata": {},
   "outputs": [
    {
     "name": "stderr",
     "output_type": "stream",
     "text": [
      "The attention mask is not set and cannot be inferred from input because pad token is same as eos token. As a consequence, you may observe unexpected behavior. Please pass your input's `attention_mask` to obtain reliable results.\n",
      "huggingface/tokenizers: The current process just got forked, after parallelism has already been used. Disabling parallelism to avoid deadlocks...\n",
      "To disable this warning, you can either:\n",
      "\t- Avoid using `tokenizers` before the fork if possible\n",
      "\t- Explicitly set the environment variable TOKENIZERS_PARALLELISM=(true | false)\n",
      "huggingface/tokenizers: The current process just got forked, after parallelism has already been used. Disabling parallelism to avoid deadlocks...\n",
      "To disable this warning, you can either:\n",
      "\t- Avoid using `tokenizers` before the fork if possible\n",
      "\t- Explicitly set the environment variable TOKENIZERS_PARALLELISM=(true | false)\n"
     ]
    },
    {
     "name": "stdout",
     "output_type": "stream",
     "text": [
      "<bos><bos><start_of_turn>user\n",
      "Risolvi gli indizi tra parentesi per ottenere una prima lettura, e usa la chiave di lettura per ottenere la soluzione del rebus.\n",
      "\n",
      "Rebus: AU [Le frecce lanciate da Diana] [Sono dei palmipedi] ME B [Una curva tra i capelli]\n",
      "Chiave risolutiva: 11 10<end_of_turn>\n",
      "<start_of_turn>model\n",
      "Procediamo alla risoluzione del rebus passo per passo:\n",
      "- AU = A U\n",
      "- [Le frecce lanciate da Diana] = strali\n",
      "- [Sono dei palmipedi] = mantidi\n",
      "- ME B = ME B\n",
      "- [Una curva tra i capelli] = onda\n",
      "\n",
      "Ora componiamo la soluzione seguendo la chiave risolutiva:\n",
      "11 = Strali mantidi ME B onda\n",
      "10 = Stralimenti \n",
      "\n",
      "Soluzione: Stralimenti \n",
      "<|eot_id|>\n",
      "<|eot_id|>\n",
      "<|eot_id|>\n",
      "<|eot_id|>\n",
      "<|eot_id|>\n",
      "<|eot_id|>\n",
      "\n",
      "\n",
      "\n",
      "\n",
      "<|eot_id|>\n",
      "<|eot_id|>\n",
      "<|eot_id|>\n",
      "<|eot_id|>\n",
      "<|eot_id|>\n",
      "<|eot_id|>\n",
      "\n",
      "\n",
      "\n",
      "<|eot_id|> \n",
      "<|eot_id|>\n",
      "\n",
      "<|eot_id|>\n",
      "\n",
      "<|eot_id|>\n",
      "\n",
      "\n",
      "<|eot_id|>\n",
      "<|eot_id|> \n",
      "<|eot_id|>\n",
      "\n",
      "<|eot_id|>\n",
      "<|eot_id|>\n",
      "\n",
      "<|eot_id|>\n",
      "\n",
      "<|eot_id|>\n",
      "\n",
      "<|eot_id|> <|eot_id|>\n",
      "\n",
      "<|eot_id|>\n",
      "<|eot_id|>\n",
      "\n",
      "\n",
      "\n",
      "<|eot_id|>\n",
      "<|eot_id|>\n",
      "\n",
      "\n",
      "\n",
      "<|eot_id|>\n",
      "\n",
      "<|eot_id|>\n",
      "\n",
      "\n",
      "\n",
      "<|eot_id|>\n",
      "\n",
      "\n",
      "<|eot_id|>\n",
      "<|eot_id|>\n",
      "<|eot_id|>\n",
      "<|eot_id|>\n",
      "<|eot_id|>\n",
      "\n",
      "<|eot_id|>\n",
      "\n",
      "\n",
      "\n",
      "<|eot_id|>\n",
      "<|eot_id|>\n",
      "<|eot_id|>\n",
      "<|eot_id|>\n",
      "<|eot_id|>\n",
      "<|eot_id|>\n",
      "\n",
      "<|eot_id|> \n",
      "\n",
      "\n",
      "<|eot_id|>\n",
      "\n",
      "\n",
      "\n",
      "<|eot_id|>\n",
      "\n",
      "\n",
      "<|eot_id|>\n",
      "<|eot_id|>\n",
      "\n",
      "\n",
      "\n"
     ]
    }
   ],
   "source": [
    "input = template.format(rebus=rebus_raw, key=chiave)\n",
    "inputs = tokenizer(input, return_tensors=\"pt\")[\"input_ids\"]\n",
    "inputs = inputs.to('cuda')\n",
    "outputs = model.generate(input_ids = inputs, max_new_tokens = 500, use_cache = True, do_sample=True, temperature=1.0)\n",
    "model_generations = tokenizer.batch_decode(outputs)\n",
    "print(model_generations[0])"
   ]
  },
  {
   "cell_type": "code",
   "execution_count": 16,
   "id": "a76a8670-0ea6-4437-a503-cbfecf49b5d9",
   "metadata": {},
   "outputs": [],
   "source": [
    "completions = []\n",
    "\n",
    "for i in range(4):\n",
    "    outputs = model.generate(input_ids = inputs, max_new_tokens = 500, use_cache = True, do_sample=True)\n",
    "    model_generations = tokenizer.batch_decode(outputs)\n",
    "    completions.append(model_generations[0])"
   ]
  },
  {
   "cell_type": "code",
   "execution_count": 17,
   "id": "a9541a4a-e113-4f0b-a578-ae1c74adc728",
   "metadata": {},
   "outputs": [
    {
     "data": {
      "text/plain": [
       "['<bos><bos><start_of_turn>user\\nRisolvi gli indizi tra parentesi per ottenere una prima lettura, e usa la chiave di lettura per ottenere la soluzione del rebus.\\n\\nRebus: AU [Le frecce lanciate da Diana] [Sono dei palmipedi] ME B [Una curva tra i capelli]\\nChiave risolutiva: 11 10<end_of_turn>\\n<start_of_turn>model\\nProcediamo alla risoluzione del rebus passo per passo:\\n\\n- AU = A U\\n- [Le frecce lanciate da Diana] = strali\\n- [Sono dei palmipedi] = chiromanti\\n- ME B = ME B\\n- [Una curva tra i capelli] = frangente\\n\\nPrima lettura: AU strali chiromanti ME B frangente\\n\\nOra componiamo la soluzione seguendo la chiave risolutiva:\\n11 = Autrichiromanti\\n10 = imbrighe\\n\\nSoluzione: Autrichiromanti imbrighe\\n<|eot_id|>\\n<|eot_id|>\\n<|eot_id|>\\n<|eot_id|>\\n<|eot_id|>\\n<|eot_id|>\\n<|eot_id|>\\n<|eot_id|>\\n<|eot_id|>\\n<|eot_id|>\\n<|eot_id|>\\n<|eot_id|>\\n<|eot_id|>\\n<|eot_id|>\\n<|eot_id|>\\n\\n\\n\\n<|eot_id|>\\n<|eot_id|>\\n<|eot_id|>\\n<|eot_id|>\\n<|eot_id|>\\n<|eot_id|>\\n<|eot_id|>\\n<|eot_id|>\\n<|eot_id|>\\n<|eot_id|>\\n<|eot_id|>\\n<|eot_id|>\\n<|eot_id|>\\n<|eot_id|>\\n\\n<|eot_id|>\\n<|eot_id|>\\n<|eot_id|>\\n<|eot_id|>\\n<|eot_id|>\\n<|eot_id|>\\n<|eot_id|>\\n<|eot_id|>\\n<|eot_id|>\\n<|eot_id|>\\n<|eot_id|>\\n<|eot_id|>\\n<|eot_id|>\\n<|eot_id|>\\n<|eot_id|>\\n\\n<|eot_id|>\\n<|eot_id|>\\n<|eot_id|>\\n<',\n",
       " '<bos><bos><start_of_turn>user\\nRisolvi gli indizi tra parentesi per ottenere una prima lettura, e usa la chiave di lettura per ottenere la soluzione del rebus.\\n\\nRebus: AU [Le frecce lanciate da Diana] [Sono dei palmipedi] ME B [Una curva tra i capelli]\\nChiave risolutiva: 11 10<end_of_turn>\\n<start_of_turn>model\\nProcediamo alla risoluzione del rebus passo per passo:\\n\\n* **AU** = **A**\\n* **[Le frecce lanciate da Diana]** = strali\\n* **[Sono dei palmipedi]** = anatre\\n* **ME B** = **Me**\\n* **[Una curva tra i capelli]** = onda\\n\\nOra componiamo la soluzione seguendo la chiave risolutiva:\\n\\n11 = **A strali anatre ME B onda**\\n10 = **A strali anatre MEB onda**\\n\\n\\nSpero che questo ti aiuti!\\n<|eot_id|>\\n<|eot_id|>\\n<|eot_id|>\\n<|eot_id|>\\n<|eot_id|>\\n<|eot_id|>\\n<|eot_id|>\\n<|eot_id|>\\n<|eot_id|>\\n<|eot_id|>\\n<|eot_id|>\\n<|eot_id|>\\n<|eot_id|>\\n<|eot_id|>\\n<|eot_id|>\\n<|eot_id|>\\n<|eot_id|>\\n<|eot_id|>\\n<|eot_id|>\\n<|eot_id|>\\n<|eot_id|>\\n<|eot_id|>\\n<|eot_id|>\\n<|eot_id|>\\n<|eot_id|>\\n<|eot_id|>\\n<|eot_id|>\\n<|eot_id|>\\n<|eot_id|>\\n<|eot_id|>\\n<|eot_id|>\\n<|eot_id|>\\n<|eot_id|>\\n<|eot_id|>\\n<|eot_id|>\\n<|eot_id|>\\n<|eot_id|>\\n<|eot_id|>\\n<|eot_id|>\\n<|eot_id|>\\n<|eot_id|>\\n<|eot_id|>\\n<|eot_id|>\\n<|eot_id|>\\n<|eot_id|>\\n<|eot_id|>\\n<|eot_id|>\\n<',\n",
       " '<bos><bos><start_of_turn>user\\nRisolvi gli indizi tra parentesi per ottenere una prima lettura, e usa la chiave di lettura per ottenere la soluzione del rebus.\\n\\nRebus: AU [Le frecce lanciate da Diana] [Sono dei palmipedi] ME B [Una curva tra i capelli]\\nChiave risolutiva: 11 10<end_of_turn>\\n<start_of_turn>model\\nProcediamo alla risoluzione del rebus passo per passo:\\n\\n* **AU** = A U\\n* [Le frecce lanciate da Diana] = strali\\n* [Sono dei palmipedi] = anatre\\n* **ME B** = MEB\\n* [Una curva tra i capelli] = onda\\n\\nPrima lettura: AU strali anatre ME B onda\\n\\nOra componiamo la soluzione seguendo la chiave risolutiva:\\n11 = Australiana\\n10 = tremebonda\\n\\nSoluzione: Astraliana tremebonda\\n\\nSpero che ti sia piaciuto il rebus! \\n<end_of_turn><eos>',\n",
       " '<bos><bos><start_of_turn>user\\nRisolvi gli indizi tra parentesi per ottenere una prima lettura, e usa la chiave di lettura per ottenere la soluzione del rebus.\\n\\nRebus: AU [Le frecce lanciate da Diana] [Sono dei palmipedi] ME B [Una curva tra i capelli]\\nChiave risolutiva: 11 10<end_of_turn>\\n<start_of_turn>model\\nProcediamo alla risoluzione del rebus passo per passo:\\n\\n* **AU** = A U\\n* **[Le frecce lanciate da Diana] = strali**\\n* **[Sono dei palmipedi] = anatre**\\n* **ME B** = ME B\\n* **[Una curva tra i capelli] = onda**\\n\\nPrima lettura: AU strali anatre ME B onda\\n\\nOra componiamo la soluzione seguendo la chiave risolutiva:\\n\\n11 = Australiana\\n10 = tremebonda\\n\\nSoluzione: Australiana tremebonda\\n<|eot_id|>\\n<|eot_id_ref|>\\n<end_of_turn><eos>']"
      ]
     },
     "execution_count": 17,
     "metadata": {},
     "output_type": "execute_result"
    }
   ],
   "source": [
    "completions"
   ]
  },
  {
   "cell_type": "code",
   "execution_count": 18,
   "id": "a31303e7-e030-46a4-8f51-62ef2f766314",
   "metadata": {},
   "outputs": [],
   "source": [
    "# whether or not the predicted solution matches the gold (0 if not, 1.5 if yes)\n",
    "\n",
    "def exact_match_solution(prompts, completions, answer, **kwargs):\n",
    "    predicted = [estrai_soluzione(completion) for completion in completions]\n",
    "    gold = estrai_soluzione(answer)\n",
    "    print(predicted)\n",
    "    scores = []\n",
    "    for guess in predicted:\n",
    "        if guess is None:\n",
    "            scores.append(0)\n",
    "            continue\n",
    "        try:\n",
    "            scores.append(1.0 if guess == gold else 0.0)\n",
    "        except:\n",
    "            scores.append(0)\n",
    "            continue\n",
    "    return scores"
   ]
  },
  {
   "cell_type": "code",
   "execution_count": 19,
   "id": "c117a00d-36d5-40c5-88a5-32085b505e31",
   "metadata": {},
   "outputs": [],
   "source": [
    "def perc_correct_words_solution(prompts, completions, answer, **kwargs):\n",
    "    gold = estrai_soluzione(answer).lower().split()\n",
    "    scores = []\n",
    "\n",
    "    for completion in completions:\n",
    "        pred = estrai_soluzione(completion)\n",
    "        print(pred)\n",
    "        if not pred:\n",
    "            continue\n",
    "\n",
    "        pred = pred.lower().split()\n",
    "        score = 0\n",
    "        for pw, gw in zip(pred, gold):\n",
    "            if pw == gw:\n",
    "                score += 1\n",
    "            elif len(pw) == len(gw):\n",
    "                score += 0.5\n",
    "        scores.append(score / len(gold))\n",
    "\n",
    "    return scores"
   ]
  },
  {
   "cell_type": "code",
   "execution_count": 20,
   "id": "fab816e4-bbf6-45bb-9995-e239f3fefb82",
   "metadata": {},
   "outputs": [
    {
     "data": {
      "text/plain": [
       "['<bos><bos><start_of_turn>user\\nRisolvi gli indizi tra parentesi per ottenere una prima lettura, e usa la chiave di lettura per ottenere la soluzione del rebus.\\n\\nRebus: AU [Le frecce lanciate da Diana] [Sono dei palmipedi] ME B [Una curva tra i capelli]\\nChiave risolutiva: 11 10<end_of_turn>\\n<start_of_turn>model\\nProcediamo alla risoluzione del rebus passo per passo:\\n\\n- AU = A U\\n- [Le frecce lanciate da Diana] = strali\\n- [Sono dei palmipedi] = chiromanti\\n- ME B = ME B\\n- [Una curva tra i capelli] = frangente\\n\\nPrima lettura: AU strali chiromanti ME B frangente\\n\\nOra componiamo la soluzione seguendo la chiave risolutiva:\\n11 = Autrichiromanti\\n10 = imbrighe\\n\\nSoluzione: Autrichiromanti imbrighe\\n<|eot_id|>\\n<|eot_id|>\\n<|eot_id|>\\n<|eot_id|>\\n<|eot_id|>\\n<|eot_id|>\\n<|eot_id|>\\n<|eot_id|>\\n<|eot_id|>\\n<|eot_id|>\\n<|eot_id|>\\n<|eot_id|>\\n<|eot_id|>\\n<|eot_id|>\\n<|eot_id|>\\n\\n\\n\\n<|eot_id|>\\n<|eot_id|>\\n<|eot_id|>\\n<|eot_id|>\\n<|eot_id|>\\n<|eot_id|>\\n<|eot_id|>\\n<|eot_id|>\\n<|eot_id|>\\n<|eot_id|>\\n<|eot_id|>\\n<|eot_id|>\\n<|eot_id|>\\n<|eot_id|>\\n\\n<|eot_id|>\\n<|eot_id|>\\n<|eot_id|>\\n<|eot_id|>\\n<|eot_id|>\\n<|eot_id|>\\n<|eot_id|>\\n<|eot_id|>\\n<|eot_id|>\\n<|eot_id|>\\n<|eot_id|>\\n<|eot_id|>\\n<|eot_id|>\\n<|eot_id|>\\n<|eot_id|>\\n\\n<|eot_id|>\\n<|eot_id|>\\n<|eot_id|>\\n<',\n",
       " '<bos><bos><start_of_turn>user\\nRisolvi gli indizi tra parentesi per ottenere una prima lettura, e usa la chiave di lettura per ottenere la soluzione del rebus.\\n\\nRebus: AU [Le frecce lanciate da Diana] [Sono dei palmipedi] ME B [Una curva tra i capelli]\\nChiave risolutiva: 11 10<end_of_turn>\\n<start_of_turn>model\\nProcediamo alla risoluzione del rebus passo per passo:\\n\\n* **AU** = **A**\\n* **[Le frecce lanciate da Diana]** = strali\\n* **[Sono dei palmipedi]** = anatre\\n* **ME B** = **Me**\\n* **[Una curva tra i capelli]** = onda\\n\\nOra componiamo la soluzione seguendo la chiave risolutiva:\\n\\n11 = **A strali anatre ME B onda**\\n10 = **A strali anatre MEB onda**\\n\\n\\nSpero che questo ti aiuti!\\n<|eot_id|>\\n<|eot_id|>\\n<|eot_id|>\\n<|eot_id|>\\n<|eot_id|>\\n<|eot_id|>\\n<|eot_id|>\\n<|eot_id|>\\n<|eot_id|>\\n<|eot_id|>\\n<|eot_id|>\\n<|eot_id|>\\n<|eot_id|>\\n<|eot_id|>\\n<|eot_id|>\\n<|eot_id|>\\n<|eot_id|>\\n<|eot_id|>\\n<|eot_id|>\\n<|eot_id|>\\n<|eot_id|>\\n<|eot_id|>\\n<|eot_id|>\\n<|eot_id|>\\n<|eot_id|>\\n<|eot_id|>\\n<|eot_id|>\\n<|eot_id|>\\n<|eot_id|>\\n<|eot_id|>\\n<|eot_id|>\\n<|eot_id|>\\n<|eot_id|>\\n<|eot_id|>\\n<|eot_id|>\\n<|eot_id|>\\n<|eot_id|>\\n<|eot_id|>\\n<|eot_id|>\\n<|eot_id|>\\n<|eot_id|>\\n<|eot_id|>\\n<|eot_id|>\\n<|eot_id|>\\n<|eot_id|>\\n<|eot_id|>\\n<|eot_id|>\\n<',\n",
       " '<bos><bos><start_of_turn>user\\nRisolvi gli indizi tra parentesi per ottenere una prima lettura, e usa la chiave di lettura per ottenere la soluzione del rebus.\\n\\nRebus: AU [Le frecce lanciate da Diana] [Sono dei palmipedi] ME B [Una curva tra i capelli]\\nChiave risolutiva: 11 10<end_of_turn>\\n<start_of_turn>model\\nProcediamo alla risoluzione del rebus passo per passo:\\n\\n* **AU** = A U\\n* [Le frecce lanciate da Diana] = strali\\n* [Sono dei palmipedi] = anatre\\n* **ME B** = MEB\\n* [Una curva tra i capelli] = onda\\n\\nPrima lettura: AU strali anatre ME B onda\\n\\nOra componiamo la soluzione seguendo la chiave risolutiva:\\n11 = Australiana\\n10 = tremebonda\\n\\nSoluzione: Astraliana tremebonda\\n\\nSpero che ti sia piaciuto il rebus! \\n<end_of_turn><eos>',\n",
       " '<bos><bos><start_of_turn>user\\nRisolvi gli indizi tra parentesi per ottenere una prima lettura, e usa la chiave di lettura per ottenere la soluzione del rebus.\\n\\nRebus: AU [Le frecce lanciate da Diana] [Sono dei palmipedi] ME B [Una curva tra i capelli]\\nChiave risolutiva: 11 10<end_of_turn>\\n<start_of_turn>model\\nProcediamo alla risoluzione del rebus passo per passo:\\n\\n* **AU** = A U\\n* **[Le frecce lanciate da Diana] = strali**\\n* **[Sono dei palmipedi] = anatre**\\n* **ME B** = ME B\\n* **[Una curva tra i capelli] = onda**\\n\\nPrima lettura: AU strali anatre ME B onda\\n\\nOra componiamo la soluzione seguendo la chiave risolutiva:\\n\\n11 = Australiana\\n10 = tremebonda\\n\\nSoluzione: Australiana tremebonda\\n<|eot_id|>\\n<|eot_id_ref|>\\n<end_of_turn><eos>']"
      ]
     },
     "execution_count": 20,
     "metadata": {},
     "output_type": "execute_result"
    }
   ],
   "source": [
    "completions"
   ]
  },
  {
   "cell_type": "code",
   "execution_count": 21,
   "id": "000f29c6-3240-4100-8c82-1cdb77c32804",
   "metadata": {},
   "outputs": [],
   "source": [
    "def exact_match_primalet(prompts, completions, answer, **kwargs):\n",
    "    predicted = [estrai_primalet(completion) for completion in completions]\n",
    "    golden = estrai_primalet(answer).lower().replace(\" \", \"\")\n",
    "    scores = []\n",
    "    for guess in predicted:\n",
    "        if guess is None:\n",
    "            scores.append(0)\n",
    "            continue\n",
    "        try:\n",
    "            scores.append(1.0 if guess.lower().replace(\" \", \"\") == golden else 0.0)\n",
    "        except:\n",
    "            scores.append(0)\n",
    "            continue\n",
    "    return scores"
   ]
  },
  {
   "cell_type": "code",
   "execution_count": 22,
   "id": "684b11b5-ee8e-4d9e-9219-b73069085d62",
   "metadata": {},
   "outputs": [
    {
     "name": "stdout",
     "output_type": "stream",
     "text": [
      "Autrichiromanti imbrighe\n",
      "None\n",
      "Astraliana tremebonda\n",
      "Australiana tremebonda\n"
     ]
    },
    {
     "data": {
      "text/plain": [
       "[0.0, 0.5, 1.0]"
      ]
     },
     "execution_count": 22,
     "metadata": {},
     "output_type": "execute_result"
    }
   ],
   "source": [
    "perc_correct_words_solution(\"\", completions, dataset_ood[10]['conversations'][1]['value'])"
   ]
  },
  {
   "cell_type": "code",
   "execution_count": 23,
   "id": "d0fea80e-0581-47f8-834f-86d9fd7152db",
   "metadata": {},
   "outputs": [
    {
     "name": "stdout",
     "output_type": "stream",
     "text": [
      "['Autrichiromanti imbrighe', None, 'Astraliana tremebonda', 'Australiana tremebonda']\n"
     ]
    },
    {
     "data": {
      "text/plain": [
       "[0.0, 0, 0.0, 1.0]"
      ]
     },
     "execution_count": 23,
     "metadata": {},
     "output_type": "execute_result"
    }
   ],
   "source": [
    "exact_match_solution(\"\", completions, dataset_ood[10]['conversations'][1]['value'])"
   ]
  },
  {
   "cell_type": "code",
   "execution_count": 24,
   "id": "628b1378-a730-4042-a3cb-4c88b18ba4c7",
   "metadata": {},
   "outputs": [
    {
     "data": {
      "text/plain": [
       "[0.0, 0, 1.0, 1.0]"
      ]
     },
     "execution_count": 24,
     "metadata": {},
     "output_type": "execute_result"
    }
   ],
   "source": [
    "exact_match_primalet(\"\", completions, dataset_ood[10]['conversations'][1]['value'])"
   ]
  },
  {
   "cell_type": "code",
   "execution_count": 59,
   "id": "65bb0f08-7aab-49af-8187-3b7c1d23ffe2",
   "metadata": {},
   "outputs": [],
   "source": [
    "def perc_correct_defres(prompts, completions, answer, **kwargs):\n",
    "    predicted = [estrai_indizi(completion.replace(\"*\", \"\")) for completion in completions] \n",
    "    golden = estrai_indizi(answer)\n",
    "    # print(golden)\n",
    "    word_scores = []\n",
    "    letter_scores = []\n",
    "    for pred in predicted:\n",
    "        wscore = 0\n",
    "        for pw, gw in zip(pred['words'], golden['words']):\n",
    "            if pw == gw:\n",
    "                wscore += 1\n",
    "            elif len(pw) == len(gw):\n",
    "                wscore += 0.5\n",
    "        word_scores.append(wscore / len(golden['words']))\n",
    "\n",
    "        lscore = 0\n",
    "        for pw, gw in zip(pred['letters'], golden['letters']):\n",
    "            if pw.lower().replace(\" \", \"\") == gw.lower().replace(\" \", \"\"):\n",
    "                lscore += 1\n",
    "        letter_scores.append(lscore / len(golden['letters']))\n",
    "        \n",
    "    return [word_scores[i] + letter_scores[i] for i in range(len(predicted))]"
   ]
  },
  {
   "cell_type": "code",
   "execution_count": 60,
   "id": "3f7f4e22-ccba-4474-a601-b491184d93c5",
   "metadata": {},
   "outputs": [
    {
     "data": {
      "text/plain": [
       "[1.3333333333333333, 2.0, 2.0, 2.0]"
      ]
     },
     "execution_count": 60,
     "metadata": {},
     "output_type": "execute_result"
    }
   ],
   "source": [
    "perc_correct_defres(\"\", completions, dataset_ood[10]['conversations'][1]['value'])"
   ]
  },
  {
   "cell_type": "markdown",
   "id": "3aaa209a-fa38-4248-b3de-3883b72649a8",
   "metadata": {},
   "source": [
    "# DATASETS"
   ]
  },
  {
   "cell_type": "code",
   "execution_count": 2,
   "id": "9957080b-0c7c-46fe-8389-62c0153f86d4",
   "metadata": {},
   "outputs": [],
   "source": [
    "import re\n",
    "from datasets import load_dataset\n",
    "\n",
    "template = \"\"\"<bos><start_of_turn>user\n",
    "{human}<end_of_turn>\n",
    "<start_of_turn>model\n",
    "{gpt}<|eot_id|>\"\"\"\n",
    "\n",
    "def formatting_prompts_func(examples):\n",
    "    convos = examples[\"conversations\"]\n",
    "    texts = [template.format(human=convo[0][\"value\"], gpt=convo[1][\"value\"]) for convo in convos]\n",
    "    return { \"text\" : texts, }\n",
    "pass\n",
    "\n",
    "dataset = load_dataset('gsarti/eureka-rebus', 'llm_sft', data_files=[\"train.jsonl\"], split = \"train\")\n",
    "dataset = dataset.map(formatting_prompts_func, batched = True)"
   ]
  },
  {
   "cell_type": "code",
   "execution_count": 3,
   "id": "f8f70c79-345d-4f6d-ac0f-2d2cd0bd657a",
   "metadata": {},
   "outputs": [
    {
     "data": {
      "text/plain": [
       "Dataset({\n",
       "    features: ['conversations', 'text'],\n",
       "    num_rows: 81318\n",
       "})"
      ]
     },
     "execution_count": 3,
     "metadata": {},
     "output_type": "execute_result"
    }
   ],
   "source": [
    "dataset"
   ]
  },
  {
   "cell_type": "code",
   "execution_count": 8,
   "id": "a27d24e0-3757-4322-a6b0-36fb734f2d5d",
   "metadata": {},
   "outputs": [],
   "source": [
    "rebus_raw, chiave = estrai_rebus_e_chiave(dataset[0]['conversations'][0]['value'])"
   ]
  },
  {
   "cell_type": "code",
   "execution_count": 9,
   "id": "7cd15778-43cf-4ad9-bf73-ceb222abf01c",
   "metadata": {},
   "outputs": [],
   "source": [
    "template = \"\"\"<bos><start_of_turn>user\n",
    "Risolvi gli indizi tra parentesi per ottenere una prima lettura, e usa la chiave di lettura per ottenere la soluzione del rebus.\n",
    "\n",
    "Rebus: {rebus}\n",
    "Chiave risolutiva: {key}<end_of_turn>\n",
    "<start_of_turn>model\"\"\""
   ]
  },
  {
   "cell_type": "code",
   "execution_count": 10,
   "id": "acaa01d4-e5b3-4c2a-9a06-181aaf8ad638",
   "metadata": {},
   "outputs": [
    {
     "data": {
      "text/plain": [
       "\"<bos><start_of_turn>user\\nRisolvi gli indizi tra parentesi per ottenere una prima lettura, e usa la chiave di lettura per ottenere la soluzione del rebus.\\n\\nRebus: A [Quello di fiori si riceve volentieri] [Vezzi visibili] RL [Dividono l'Argentina dal Cile] SE\\nChiave risolutiva: 8 9<end_of_turn>\\n<start_of_turn>model\""
      ]
     },
     "execution_count": 10,
     "metadata": {},
     "output_type": "execute_result"
    }
   ],
   "source": [
    "template.format(rebus=rebus_raw, key=chiave)"
   ]
  },
  {
   "cell_type": "code",
   "execution_count": 11,
   "id": "04e4172c-9491-4e91-9d1b-86c9edb70daf",
   "metadata": {},
   "outputs": [
    {
     "data": {
      "text/plain": [
       "\"Procediamo alla risoluzione del rebus passo per passo:\\n- A = A\\n- [Quello di fiori si riceve volentieri] = mazzo\\n- [Vezzi visibili] = nei\\n- R L = R L\\n- [Dividono l'Argentina dal Cile] = Ande\\n- S E = S E\\n\\nPrima lettura: A mazzo nei RL Ande SE\\n\\nOra componiamo la soluzione seguendo la chiave risolutiva:\\n8 = Amazzone\\n9 = irlandese\\n\\nSoluzione: Amazzone irlandese\\n\""
      ]
     },
     "execution_count": 11,
     "metadata": {},
     "output_type": "execute_result"
    }
   ],
   "source": [
    "dataset[0]['conversations'][1]['value']"
   ]
  },
  {
   "cell_type": "code",
   "execution_count": 12,
   "id": "8d14a6ca-35dc-425e-ab8d-a9206b560003",
   "metadata": {},
   "outputs": [],
   "source": [
    "import pandas as pd\n",
    "\n",
    "# Supponiamo che 'dataset' sia già definito come lista di dizionari\n",
    "# Ogni dizionario ha una chiave 'conversations' con una lista di 2 elementi:\n",
    "# [0] contiene il rebus, [1] contiene la soluzione/completion\n",
    "\n",
    "prompt_list = []\n",
    "completion_list = []\n",
    "\n",
    "for i in range(len(dataset)):\n",
    "    # Estrai rebus e chiave\n",
    "    rebus_raw, chiave = estrai_rebus_e_chiave(dataset[i]['conversations'][0]['value'])\n",
    "    \n",
    "    # Crea il prompt usando il template\n",
    "    prompt = template.format(rebus=rebus_raw, key=chiave)\n",
    "    \n",
    "    # Ottieni la completion dal dataset\n",
    "    completion = dataset[i]['conversations'][1]['value']\n",
    "    \n",
    "    # Aggiungi a lista\n",
    "    prompt_list.append(prompt)\n",
    "    completion_list.append(completion)\n",
    "\n",
    "# Crea il DataFrame\n",
    "df = pd.DataFrame({\n",
    "    'prompt': prompt_list,\n",
    "    'completion': completion_list\n",
    "})\n"
   ]
  },
  {
   "cell_type": "code",
   "execution_count": 13,
   "id": "00ffb116-149a-4afc-8728-2260be6f7c83",
   "metadata": {},
   "outputs": [
    {
     "data": {
      "text/html": [
       "<div>\n",
       "<style scoped>\n",
       "    .dataframe tbody tr th:only-of-type {\n",
       "        vertical-align: middle;\n",
       "    }\n",
       "\n",
       "    .dataframe tbody tr th {\n",
       "        vertical-align: top;\n",
       "    }\n",
       "\n",
       "    .dataframe thead th {\n",
       "        text-align: right;\n",
       "    }\n",
       "</style>\n",
       "<table border=\"1\" class=\"dataframe\">\n",
       "  <thead>\n",
       "    <tr style=\"text-align: right;\">\n",
       "      <th></th>\n",
       "      <th>prompt</th>\n",
       "      <th>completion</th>\n",
       "    </tr>\n",
       "  </thead>\n",
       "  <tbody>\n",
       "    <tr>\n",
       "      <th>0</th>\n",
       "      <td>&lt;bos&gt;&lt;start_of_turn&gt;user\\nRisolvi gli indizi t...</td>\n",
       "      <td>Procediamo alla risoluzione del rebus passo pe...</td>\n",
       "    </tr>\n",
       "    <tr>\n",
       "      <th>1</th>\n",
       "      <td>&lt;bos&gt;&lt;start_of_turn&gt;user\\nRisolvi gli indizi t...</td>\n",
       "      <td>Procediamo alla risoluzione del rebus passo pe...</td>\n",
       "    </tr>\n",
       "    <tr>\n",
       "      <th>2</th>\n",
       "      <td>&lt;bos&gt;&lt;start_of_turn&gt;user\\nRisolvi gli indizi t...</td>\n",
       "      <td>Procediamo alla risoluzione del rebus passo pe...</td>\n",
       "    </tr>\n",
       "    <tr>\n",
       "      <th>3</th>\n",
       "      <td>&lt;bos&gt;&lt;start_of_turn&gt;user\\nRisolvi gli indizi t...</td>\n",
       "      <td>Procediamo alla risoluzione del rebus passo pe...</td>\n",
       "    </tr>\n",
       "    <tr>\n",
       "      <th>4</th>\n",
       "      <td>&lt;bos&gt;&lt;start_of_turn&gt;user\\nRisolvi gli indizi t...</td>\n",
       "      <td>Procediamo alla risoluzione del rebus passo pe...</td>\n",
       "    </tr>\n",
       "  </tbody>\n",
       "</table>\n",
       "</div>"
      ],
      "text/plain": [
       "                                              prompt  \\\n",
       "0  <bos><start_of_turn>user\\nRisolvi gli indizi t...   \n",
       "1  <bos><start_of_turn>user\\nRisolvi gli indizi t...   \n",
       "2  <bos><start_of_turn>user\\nRisolvi gli indizi t...   \n",
       "3  <bos><start_of_turn>user\\nRisolvi gli indizi t...   \n",
       "4  <bos><start_of_turn>user\\nRisolvi gli indizi t...   \n",
       "\n",
       "                                          completion  \n",
       "0  Procediamo alla risoluzione del rebus passo pe...  \n",
       "1  Procediamo alla risoluzione del rebus passo pe...  \n",
       "2  Procediamo alla risoluzione del rebus passo pe...  \n",
       "3  Procediamo alla risoluzione del rebus passo pe...  \n",
       "4  Procediamo alla risoluzione del rebus passo pe...  "
      ]
     },
     "execution_count": 13,
     "metadata": {},
     "output_type": "execute_result"
    }
   ],
   "source": [
    "df.head()"
   ]
  },
  {
   "cell_type": "code",
   "execution_count": 15,
   "id": "2e9b668f-c534-43fa-b488-903e1f29d4fd",
   "metadata": {},
   "outputs": [],
   "source": [
    "df.to_csv('llm-grpo.csv')"
   ]
  },
  {
   "cell_type": "markdown",
   "id": "00161902-953e-4cd6-a132-80480086284b",
   "metadata": {},
   "source": [
    "# TEST"
   ]
  },
  {
   "cell_type": "code",
   "execution_count": 3,
   "id": "449b61b6-4ea2-4b24-9402-b979060eeb46",
   "metadata": {},
   "outputs": [],
   "source": [
    "import pandas as pd\n",
    "\n",
    "df = pd.read_csv('llm-grpo.csv')\n",
    "df = df.drop(columns=['Unnamed: 0'])"
   ]
  },
  {
   "cell_type": "code",
   "execution_count": 5,
   "id": "c6ee2036-dbb3-4422-afe2-6a7d3eaf1b6f",
   "metadata": {},
   "outputs": [
    {
     "data": {
      "text/html": [
       "<div>\n",
       "<style scoped>\n",
       "    .dataframe tbody tr th:only-of-type {\n",
       "        vertical-align: middle;\n",
       "    }\n",
       "\n",
       "    .dataframe tbody tr th {\n",
       "        vertical-align: top;\n",
       "    }\n",
       "\n",
       "    .dataframe thead th {\n",
       "        text-align: right;\n",
       "    }\n",
       "</style>\n",
       "<table border=\"1\" class=\"dataframe\">\n",
       "  <thead>\n",
       "    <tr style=\"text-align: right;\">\n",
       "      <th></th>\n",
       "      <th>prompt</th>\n",
       "      <th>completion</th>\n",
       "    </tr>\n",
       "  </thead>\n",
       "  <tbody>\n",
       "    <tr>\n",
       "      <th>0</th>\n",
       "      <td>&lt;bos&gt;&lt;start_of_turn&gt;user\\nRisolvi gli indizi t...</td>\n",
       "      <td>Procediamo alla risoluzione del rebus passo pe...</td>\n",
       "    </tr>\n",
       "    <tr>\n",
       "      <th>1</th>\n",
       "      <td>&lt;bos&gt;&lt;start_of_turn&gt;user\\nRisolvi gli indizi t...</td>\n",
       "      <td>Procediamo alla risoluzione del rebus passo pe...</td>\n",
       "    </tr>\n",
       "    <tr>\n",
       "      <th>2</th>\n",
       "      <td>&lt;bos&gt;&lt;start_of_turn&gt;user\\nRisolvi gli indizi t...</td>\n",
       "      <td>Procediamo alla risoluzione del rebus passo pe...</td>\n",
       "    </tr>\n",
       "    <tr>\n",
       "      <th>3</th>\n",
       "      <td>&lt;bos&gt;&lt;start_of_turn&gt;user\\nRisolvi gli indizi t...</td>\n",
       "      <td>Procediamo alla risoluzione del rebus passo pe...</td>\n",
       "    </tr>\n",
       "    <tr>\n",
       "      <th>4</th>\n",
       "      <td>&lt;bos&gt;&lt;start_of_turn&gt;user\\nRisolvi gli indizi t...</td>\n",
       "      <td>Procediamo alla risoluzione del rebus passo pe...</td>\n",
       "    </tr>\n",
       "  </tbody>\n",
       "</table>\n",
       "</div>"
      ],
      "text/plain": [
       "                                              prompt  \\\n",
       "0  <bos><start_of_turn>user\\nRisolvi gli indizi t...   \n",
       "1  <bos><start_of_turn>user\\nRisolvi gli indizi t...   \n",
       "2  <bos><start_of_turn>user\\nRisolvi gli indizi t...   \n",
       "3  <bos><start_of_turn>user\\nRisolvi gli indizi t...   \n",
       "4  <bos><start_of_turn>user\\nRisolvi gli indizi t...   \n",
       "\n",
       "                                          completion  \n",
       "0  Procediamo alla risoluzione del rebus passo pe...  \n",
       "1  Procediamo alla risoluzione del rebus passo pe...  \n",
       "2  Procediamo alla risoluzione del rebus passo pe...  \n",
       "3  Procediamo alla risoluzione del rebus passo pe...  \n",
       "4  Procediamo alla risoluzione del rebus passo pe...  "
      ]
     },
     "execution_count": 5,
     "metadata": {},
     "output_type": "execute_result"
    }
   ],
   "source": [
    "df.head()"
   ]
  },
  {
   "cell_type": "code",
   "execution_count": 7,
   "id": "ed3e94f4-a90d-4532-894e-c3533b081976",
   "metadata": {},
   "outputs": [
    {
     "name": "stdout",
     "output_type": "stream",
     "text": [
      "==((====))==  Unsloth 2025.3.19: Fast Gemma2 patching. Transformers: 4.51.3.\n",
      "   \\\\   /|    Tesla V100-PCIE-32GB. Num GPUs = 1. Max memory: 31.733 GB. Platform: Linux.\n",
      "O^O/ \\_/ \\    Torch: 2.5.1+cu124. CUDA: 7.0. CUDA Toolkit: 12.4. Triton: 3.1.0\n",
      "\\        /    Bfloat16 = FALSE. FA [Xformers = 0.0.29.post1. FA2 = False]\n",
      " \"-____-\"     Free license: http://github.com/unslothai/unsloth\n",
      "Unsloth: Fast downloading is enabled - ignore downloading bars which are red colored!\n"
     ]
    },
    {
     "data": {
      "application/vnd.jupyter.widget-view+json": {
       "model_id": "2b71e2a19aac4cf391bab493ed06acf2",
       "version_major": 2,
       "version_minor": 0
      },
      "text/plain": [
       "Loading checkpoint shards:   0%|          | 0/2 [00:00<?, ?it/s]"
      ]
     },
     "metadata": {},
     "output_type": "display_data"
    }
   ],
   "source": [
    "from unsloth import FastLanguageModel\n",
    "import torch\n",
    "\n",
    "max_seq_length = 1248 # Choose any! We auto support RoPE Scaling internally!\n",
    "dtype = None # None for auto detection. Float16 for Tesla T4, V100, Bfloat16 for Ampere+\n",
    "load_in_4bit = True # Use 4bit quantization to reduce memory usage. Can be False.\n",
    "\n",
    "model, tokenizer = FastLanguageModel.from_pretrained(\n",
    "    model_name = \"gsarti/gemma-2-2b-rebus-solver-fp16\",\n",
    "    max_seq_length = max_seq_length,\n",
    "    dtype = dtype,\n",
    "    load_in_4bit = load_in_4bit,\n",
    ")"
   ]
  },
  {
   "cell_type": "code",
   "execution_count": 8,
   "id": "00b64189-0d71-40e2-9ed7-6846b5b15ba3",
   "metadata": {},
   "outputs": [
    {
     "name": "stderr",
     "output_type": "stream",
     "text": [
      "Unsloth 2025.3.19 patched 26 layers with 26 QKV layers, 26 O layers and 26 MLP layers.\n"
     ]
    }
   ],
   "source": [
    "model = FastLanguageModel.get_peft_model(\n",
    "    model,\n",
    "    r = 16, # Choose any number > 0 ! Suggested 8, 16, 32, 64, 128\n",
    "    target_modules = [\"q_proj\", \"k_proj\", \"v_proj\", \"o_proj\",\n",
    "                      \"gate_proj\", \"up_proj\", \"down_proj\",],\n",
    "    lora_alpha = 16,\n",
    "    lora_dropout = 0, # Supports any, but = 0 is optimized\n",
    "    bias = \"none\",    # Supports any, but = \"none\" is optimized\n",
    "    # [NEW] \"unsloth\" uses 30% less VRAM, fits 2x larger batch sizes!\n",
    "    use_gradient_checkpointing = False, # True or \"unsloth\" for very long context\n",
    "    random_state = 4249,\n",
    "    use_rslora = False,  # We support rank stabilized LoRA\n",
    "    loftq_config = None, # And LoftQ\n",
    ")"
   ]
  },
  {
   "cell_type": "code",
   "execution_count": 15,
   "id": "9ed10ce8-2fc4-457d-803f-fb3a10e1d2e3",
   "metadata": {},
   "outputs": [
    {
     "name": "stderr",
     "output_type": "stream",
     "text": [
      "huggingface/tokenizers: The current process just got forked, after parallelism has already been used. Disabling parallelism to avoid deadlocks...\n",
      "To disable this warning, you can either:\n",
      "\t- Avoid using `tokenizers` before the fork if possible\n",
      "\t- Explicitly set the environment variable TOKENIZERS_PARALLELISM=(true | false)\n",
      "\u001b[34m\u001b[1mwandb\u001b[0m: \u001b[33mWARNING\u001b[0m If you're specifying your api key in code, ensure this code is not shared publicly.\n",
      "\u001b[34m\u001b[1mwandb\u001b[0m: \u001b[33mWARNING\u001b[0m Consider setting the WANDB_API_KEY environment variable, or running `wandb login` from the command line.\n",
      "\u001b[34m\u001b[1mwandb\u001b[0m: Appending key for api.wandb.ai to your netrc file: /u/dssc/scandu00/.netrc\n",
      "\u001b[34m\u001b[1mwandb\u001b[0m: Currently logged in as: \u001b[33msaracandussio\u001b[0m (\u001b[33msaracandussio-universit-degli-studi-di-trieste\u001b[0m) to \u001b[32mhttps://api.wandb.ai\u001b[0m. Use \u001b[1m`wandb login --relogin`\u001b[0m to force relogin\n"
     ]
    },
    {
     "data": {
      "text/plain": [
       "True"
      ]
     },
     "execution_count": 15,
     "metadata": {},
     "output_type": "execute_result"
    }
   ],
   "source": [
    "import torch\n",
    "from trl import GRPOConfig, GRPOTrainer\n",
    "# export WANDB_API_KEY=\"5a69225ea1d050c9c21f67c2db85febf61fa8fb1\"\n",
    "import wandb\n",
    "wandb.login(key=\"5a69225ea1d050c9c21f67c2db85febf61fa8fb1\")"
   ]
  },
  {
   "cell_type": "code",
   "execution_count": 19,
   "id": "c0ebbdec-38ed-4d69-8c66-468be368c453",
   "metadata": {},
   "outputs": [
    {
     "name": "stdout",
     "output_type": "stream",
     "text": [
      "Unsloth: We now expect `per_device_train_batch_size` to be a multiple of `num_generations`.\n",
      "We will change the batch size of 4 to the `num_generations` of 8\n"
     ]
    },
    {
     "name": "stderr",
     "output_type": "stream",
     "text": [
      "huggingface/tokenizers: The current process just got forked, after parallelism has already been used. Disabling parallelism to avoid deadlocks...\n",
      "To disable this warning, you can either:\n",
      "\t- Avoid using `tokenizers` before the fork if possible\n",
      "\t- Explicitly set the environment variable TOKENIZERS_PARALLELISM=(true | false)\n"
     ]
    }
   ],
   "source": [
    "training_args = GRPOConfig(\n",
    "    output_dir = \"GRPO\",\n",
    "    learning_rate = 2e-5,\n",
    "    per_device_train_batch_size = 4,\n",
    "    gradient_accumulation_steps = 2,\n",
    "    max_prompt_length = 512, \n",
    "    max_completion_length = 96,\n",
    "    num_generations = 8, # i.e. number of competitive completions considered during optimization\n",
    "    optim = \"adamw_8bit\",\n",
    "    num_train_epochs = 1,\n",
    "    bf16 = False, \n",
    "    report_to = [\"wandb\"],\n",
    "    remove_unused_columns = False, \n",
    "    logging_steps = 1\n",
    ")"
   ]
  },
  {
   "cell_type": "code",
   "execution_count": null,
   "id": "077a1693-7740-4723-80ef-a1b543fd82ed",
   "metadata": {},
   "outputs": [],
   "source": []
  }
 ],
 "metadata": {
  "kernelspec": {
   "display_name": "Python 3 (ipykernel)",
   "language": "python",
   "name": "python3"
  },
  "language_info": {
   "codemirror_mode": {
    "name": "ipython",
    "version": 3
   },
   "file_extension": ".py",
   "mimetype": "text/x-python",
   "name": "python",
   "nbconvert_exporter": "python",
   "pygments_lexer": "ipython3",
   "version": "3.9.18"
  }
 },
 "nbformat": 4,
 "nbformat_minor": 5
}
