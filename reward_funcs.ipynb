{
 "cells": [
  {
   "cell_type": "code",
   "execution_count": 1,
   "id": "655e5318-da3b-4d8a-b099-4454cb90081b",
   "metadata": {},
   "outputs": [],
   "source": [
    "# word_guesses, first_pass, solution_words, solution = parse_generation(model_generation)"
   ]
  },
  {
   "cell_type": "code",
   "execution_count": 2,
   "id": "875acc9a-29aa-4e9e-97e6-5031e5f1ad8d",
   "metadata": {},
   "outputs": [],
   "source": [
    "def exact_match_solution(prompts, completions, answer, **kwargs):\n",
    "    _, _, _, predicted = [parse_generation(completion) for completion in completions]\n",
    "    _, _, _, gold = parse_generation(answer[0])\n",
    "    print(\"{}, {}\".format(predicted, gold))\n",
    "    scores = []\n",
    "    for guess in predicted:\n",
    "        if guess == \"\":\n",
    "            scores.append(0)\n",
    "            continue\n",
    "        try:\n",
    "            scores.append(1.0 if guess == gold else 0.0)\n",
    "        except:\n",
    "            scores.append(0)\n",
    "            continue\n",
    "    return scores"
   ]
  },
  {
   "cell_type": "code",
   "execution_count": 4,
   "id": "98b47684-838e-4277-89a7-7cf6370120af",
   "metadata": {},
   "outputs": [],
   "source": [
    "from datasets import load_dataset\n",
    "dataset_ood = load_dataset('gsarti/eureka-rebus', 'llm_sft', data_files=[\"ood_test.jsonl\"], split=\"train\")"
   ]
  },
  {
   "cell_type": "code",
   "execution_count": null,
   "id": "8de3a5e9-c213-4d2c-81d3-95b4cefb5db2",
   "metadata": {},
   "outputs": [],
   "source": []
  }
 ],
 "metadata": {
  "kernelspec": {
   "display_name": "Python 3 (ipykernel)",
   "language": "python",
   "name": "python3"
  },
  "language_info": {
   "codemirror_mode": {
    "name": "ipython",
    "version": 3
   },
   "file_extension": ".py",
   "mimetype": "text/x-python",
   "name": "python",
   "nbconvert_exporter": "python",
   "pygments_lexer": "ipython3",
   "version": "3.9.21"
  }
 },
 "nbformat": 4,
 "nbformat_minor": 5
}
